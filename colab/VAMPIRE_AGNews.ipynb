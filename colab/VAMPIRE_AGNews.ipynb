{
  "nbformat": 4,
  "nbformat_minor": 0,
  "metadata": {
    "colab": {
      "name": "VAMPIRE_AGNews.ipynb",
      "version": "0.3.2",
      "provenance": [],
      "include_colab_link": true
    },
    "kernelspec": {
      "name": "python3",
      "display_name": "Python 3"
    },
    "accelerator": "GPU"
  },
  "cells": [
    {
      "cell_type": "markdown",
      "metadata": {
        "id": "view-in-github",
        "colab_type": "text"
      },
      "source": [
        "<a href=\"https://colab.research.google.com/github/allenai/vampire/blob/colab/colab/VAMPIRE_AGNews.ipynb\" target=\"_parent\"><img src=\"https://colab.research.google.com/assets/colab-badge.svg\" alt=\"Open In Colab\"/></a>"
      ]
    },
    {
      "cell_type": "code",
      "metadata": {
        "id": "wEFivVCCpEUn",
        "colab_type": "code",
        "outputId": "dbd1efd6-0be5-4384-b101-1b6dfcddb3ba",
        "colab": {
          "base_uri": "https://localhost:8080/",
          "height": 34
        }
      },
      "source": [
        "!git clone https://github.com/allenai/vampire\n"
      ],
      "execution_count": 1,
      "outputs": [
        {
          "output_type": "stream",
          "text": [
            "fatal: destination path 'vampire' already exists and is not an empty directory.\n"
          ],
          "name": "stdout"
        }
      ]
    },
    {
      "cell_type": "code",
      "metadata": {
        "id": "rMDq7NeCrHB3",
        "colab_type": "code",
        "outputId": "40ee43fb-e8b5-4482-e20b-b012354386bf",
        "colab": {
          "base_uri": "https://localhost:8080/",
          "height": 34
        }
      },
      "source": [
        "%cd vampire"
      ],
      "execution_count": 2,
      "outputs": [
        {
          "output_type": "stream",
          "text": [
            "/content/vampire\n"
          ],
          "name": "stdout"
        }
      ]
    },
    {
      "cell_type": "code",
      "metadata": {
        "id": "f52p11vJpJW8",
        "colab_type": "code",
        "outputId": "bbdb7bde-a8af-4264-e7f4-4ef3d165e888",
        "colab": {
          "base_uri": "https://localhost:8080/",
          "height": 1737
        }
      },
      "source": [
        "!pip install -r requirements.txt"
      ],
      "execution_count": 3,
      "outputs": [
        {
          "output_type": "stream",
          "text": [
            "Collecting git+git://github.com/allenai/allennlp@master (from -r requirements.txt (line 1))\n",
            "  Cloning git://github.com/allenai/allennlp (to revision master) to /tmp/pip-req-build-dry2nuzv\n",
            "  Running command git clone -q git://github.com/allenai/allennlp /tmp/pip-req-build-dry2nuzv\n",
            "Requirement already satisfied (use --upgrade to upgrade): allennlp===0.8.5-unreleased from git+git://github.com/allenai/allennlp@master in /usr/local/lib/python3.6/dist-packages (from -r requirements.txt (line 1))\n",
            "Requirement already satisfied: pandas in /usr/local/lib/python3.6/dist-packages (from -r requirements.txt (line 2)) (0.24.2)\n",
            "Requirement already satisfied: pytest in /usr/local/lib/python3.6/dist-packages (from -r requirements.txt (line 3)) (3.6.4)\n",
            "Requirement already satisfied: tabulate in /usr/local/lib/python3.6/dist-packages (from -r requirements.txt (line 4)) (0.8.3)\n",
            "Requirement already satisfied: regex in /usr/local/lib/python3.6/dist-packages (from -r requirements.txt (line 5)) (2019.6.8)\n",
            "Requirement already satisfied: pylint==1.8.1 in /usr/local/lib/python3.6/dist-packages (from -r requirements.txt (line 7)) (1.8.1)\n",
            "Requirement already satisfied: mypy==0.521 in /usr/local/lib/python3.6/dist-packages (from -r requirements.txt (line 9)) (0.521)\n",
            "Requirement already satisfied: torch>=0.4.1 in /usr/local/lib/python3.6/dist-packages (from allennlp===0.8.5-unreleased->-r requirements.txt (line 1)) (1.1.0)\n",
            "Requirement already satisfied: overrides in /usr/local/lib/python3.6/dist-packages (from allennlp===0.8.5-unreleased->-r requirements.txt (line 1)) (1.9)\n",
            "Requirement already satisfied: nltk in /usr/local/lib/python3.6/dist-packages (from allennlp===0.8.5-unreleased->-r requirements.txt (line 1)) (3.2.5)\n",
            "Requirement already satisfied: spacy<2.2,>=2.0.18 in /usr/local/lib/python3.6/dist-packages (from allennlp===0.8.5-unreleased->-r requirements.txt (line 1)) (2.1.4)\n",
            "Requirement already satisfied: numpy in /usr/local/lib/python3.6/dist-packages (from allennlp===0.8.5-unreleased->-r requirements.txt (line 1)) (1.16.4)\n",
            "Requirement already satisfied: tensorboardX>=1.2 in /usr/local/lib/python3.6/dist-packages (from allennlp===0.8.5-unreleased->-r requirements.txt (line 1)) (1.7)\n",
            "Requirement already satisfied: awscli>=1.11.91 in /usr/local/lib/python3.6/dist-packages (from allennlp===0.8.5-unreleased->-r requirements.txt (line 1)) (1.16.179)\n",
            "Requirement already satisfied: boto3 in /usr/local/lib/python3.6/dist-packages (from allennlp===0.8.5-unreleased->-r requirements.txt (line 1)) (1.9.165)\n",
            "Requirement already satisfied: flask>=1.0.2 in /usr/local/lib/python3.6/dist-packages (from allennlp===0.8.5-unreleased->-r requirements.txt (line 1)) (1.0.3)\n",
            "Requirement already satisfied: flask-cors>=3.0.7 in /usr/local/lib/python3.6/dist-packages (from allennlp===0.8.5-unreleased->-r requirements.txt (line 1)) (3.0.8)\n",
            "Requirement already satisfied: gevent>=1.3.6 in /usr/local/lib/python3.6/dist-packages (from allennlp===0.8.5-unreleased->-r requirements.txt (line 1)) (1.4.0)\n",
            "Requirement already satisfied: requests>=2.18 in /usr/local/lib/python3.6/dist-packages (from allennlp===0.8.5-unreleased->-r requirements.txt (line 1)) (2.21.0)\n",
            "Requirement already satisfied: tqdm>=4.19 in /usr/local/lib/python3.6/dist-packages (from allennlp===0.8.5-unreleased->-r requirements.txt (line 1)) (4.28.1)\n",
            "Requirement already satisfied: editdistance in /usr/local/lib/python3.6/dist-packages (from allennlp===0.8.5-unreleased->-r requirements.txt (line 1)) (0.5.3)\n",
            "Requirement already satisfied: h5py in /usr/local/lib/python3.6/dist-packages (from allennlp===0.8.5-unreleased->-r requirements.txt (line 1)) (2.8.0)\n",
            "Requirement already satisfied: scikit-learn in /usr/local/lib/python3.6/dist-packages (from allennlp===0.8.5-unreleased->-r requirements.txt (line 1)) (0.21.2)\n",
            "Requirement already satisfied: scipy in /usr/local/lib/python3.6/dist-packages (from allennlp===0.8.5-unreleased->-r requirements.txt (line 1)) (1.3.0)\n",
            "Requirement already satisfied: pytz>=2017.3 in /usr/local/lib/python3.6/dist-packages (from allennlp===0.8.5-unreleased->-r requirements.txt (line 1)) (2018.9)\n",
            "Requirement already satisfied: unidecode in /usr/local/lib/python3.6/dist-packages (from allennlp===0.8.5-unreleased->-r requirements.txt (line 1)) (1.1.0)\n",
            "Requirement already satisfied: matplotlib>=2.2.3 in /usr/local/lib/python3.6/dist-packages (from allennlp===0.8.5-unreleased->-r requirements.txt (line 1)) (3.0.3)\n",
            "Requirement already satisfied: flaky in /usr/local/lib/python3.6/dist-packages (from allennlp===0.8.5-unreleased->-r requirements.txt (line 1)) (3.5.3)\n",
            "Requirement already satisfied: responses>=0.7 in /usr/local/lib/python3.6/dist-packages (from allennlp===0.8.5-unreleased->-r requirements.txt (line 1)) (0.10.6)\n",
            "Requirement already satisfied: numpydoc>=0.8.0 in /usr/local/lib/python3.6/dist-packages (from allennlp===0.8.5-unreleased->-r requirements.txt (line 1)) (0.9.1)\n",
            "Requirement already satisfied: conllu==0.11 in /usr/local/lib/python3.6/dist-packages (from allennlp===0.8.5-unreleased->-r requirements.txt (line 1)) (0.11)\n",
            "Requirement already satisfied: parsimonious>=0.8.0 in /usr/local/lib/python3.6/dist-packages (from allennlp===0.8.5-unreleased->-r requirements.txt (line 1)) (0.8.1)\n",
            "Requirement already satisfied: ftfy in /usr/local/lib/python3.6/dist-packages (from allennlp===0.8.5-unreleased->-r requirements.txt (line 1)) (5.5.1)\n",
            "Requirement already satisfied: sqlparse>=0.2.4 in /usr/local/lib/python3.6/dist-packages (from allennlp===0.8.5-unreleased->-r requirements.txt (line 1)) (0.3.0)\n",
            "Requirement already satisfied: word2number>=1.1 in /usr/local/lib/python3.6/dist-packages (from allennlp===0.8.5-unreleased->-r requirements.txt (line 1)) (1.1)\n",
            "Requirement already satisfied: pytorch-pretrained-bert>=0.6.0 in /usr/local/lib/python3.6/dist-packages (from allennlp===0.8.5-unreleased->-r requirements.txt (line 1)) (0.6.2)\n",
            "Requirement already satisfied: jsonpickle in /usr/local/lib/python3.6/dist-packages (from allennlp===0.8.5-unreleased->-r requirements.txt (line 1)) (1.2)\n",
            "Requirement already satisfied: jsonnet>=0.10.0 in /usr/local/lib/python3.6/dist-packages (from allennlp===0.8.5-unreleased->-r requirements.txt (line 1)) (0.13.0)\n",
            "Requirement already satisfied: python-dateutil>=2.5.0 in /usr/local/lib/python3.6/dist-packages (from pandas->-r requirements.txt (line 2)) (2.5.3)\n",
            "Requirement already satisfied: attrs>=17.4.0 in /usr/local/lib/python3.6/dist-packages (from pytest->-r requirements.txt (line 3)) (19.1.0)\n",
            "Requirement already satisfied: pluggy<0.8,>=0.5 in /usr/local/lib/python3.6/dist-packages (from pytest->-r requirements.txt (line 3)) (0.7.1)\n",
            "Requirement already satisfied: py>=1.5.0 in /usr/local/lib/python3.6/dist-packages (from pytest->-r requirements.txt (line 3)) (1.8.0)\n",
            "Requirement already satisfied: atomicwrites>=1.0 in /usr/local/lib/python3.6/dist-packages (from pytest->-r requirements.txt (line 3)) (1.3.0)\n",
            "Requirement already satisfied: setuptools in /usr/local/lib/python3.6/dist-packages (from pytest->-r requirements.txt (line 3)) (41.0.1)\n",
            "Requirement already satisfied: six>=1.10.0 in /usr/local/lib/python3.6/dist-packages (from pytest->-r requirements.txt (line 3)) (1.12.0)\n",
            "Requirement already satisfied: more-itertools>=4.0.0 in /usr/local/lib/python3.6/dist-packages (from pytest->-r requirements.txt (line 3)) (7.0.0)\n",
            "Requirement already satisfied: isort>=4.2.5 in /usr/local/lib/python3.6/dist-packages (from pylint==1.8.1->-r requirements.txt (line 7)) (4.3.20)\n",
            "Requirement already satisfied: mccabe in /usr/local/lib/python3.6/dist-packages (from pylint==1.8.1->-r requirements.txt (line 7)) (0.6.1)\n",
            "Requirement already satisfied: astroid<2.0 in /usr/local/lib/python3.6/dist-packages (from pylint==1.8.1->-r requirements.txt (line 7)) (1.6.6)\n",
            "Requirement already satisfied: typed-ast<1.1.0,>=1.0.4 in /usr/local/lib/python3.6/dist-packages (from mypy==0.521->-r requirements.txt (line 9)) (1.0.4)\n",
            "Requirement already satisfied: plac<1.0.0,>=0.9.6 in /usr/local/lib/python3.6/dist-packages (from spacy<2.2,>=2.0.18->allennlp===0.8.5-unreleased->-r requirements.txt (line 1)) (0.9.6)\n",
            "Requirement already satisfied: jsonschema<3.1.0,>=2.6.0 in /usr/local/lib/python3.6/dist-packages (from spacy<2.2,>=2.0.18->allennlp===0.8.5-unreleased->-r requirements.txt (line 1)) (2.6.0)\n",
            "Requirement already satisfied: murmurhash<1.1.0,>=0.28.0 in /usr/local/lib/python3.6/dist-packages (from spacy<2.2,>=2.0.18->allennlp===0.8.5-unreleased->-r requirements.txt (line 1)) (1.0.2)\n",
            "Requirement already satisfied: cymem<2.1.0,>=2.0.2 in /usr/local/lib/python3.6/dist-packages (from spacy<2.2,>=2.0.18->allennlp===0.8.5-unreleased->-r requirements.txt (line 1)) (2.0.2)\n",
            "Requirement already satisfied: blis<0.3.0,>=0.2.2 in /usr/local/lib/python3.6/dist-packages (from spacy<2.2,>=2.0.18->allennlp===0.8.5-unreleased->-r requirements.txt (line 1)) (0.2.4)\n",
            "Requirement already satisfied: wasabi<1.1.0,>=0.2.0 in /usr/local/lib/python3.6/dist-packages (from spacy<2.2,>=2.0.18->allennlp===0.8.5-unreleased->-r requirements.txt (line 1)) (0.2.2)\n",
            "Requirement already satisfied: srsly<1.1.0,>=0.0.5 in /usr/local/lib/python3.6/dist-packages (from spacy<2.2,>=2.0.18->allennlp===0.8.5-unreleased->-r requirements.txt (line 1)) (0.0.6)\n",
            "Requirement already satisfied: thinc<7.1.0,>=7.0.2 in /usr/local/lib/python3.6/dist-packages (from spacy<2.2,>=2.0.18->allennlp===0.8.5-unreleased->-r requirements.txt (line 1)) (7.0.4)\n",
            "Requirement already satisfied: preshed<2.1.0,>=2.0.1 in /usr/local/lib/python3.6/dist-packages (from spacy<2.2,>=2.0.18->allennlp===0.8.5-unreleased->-r requirements.txt (line 1)) (2.0.1)\n",
            "Requirement already satisfied: protobuf>=3.2.0 in /usr/local/lib/python3.6/dist-packages (from tensorboardX>=1.2->allennlp===0.8.5-unreleased->-r requirements.txt (line 1)) (3.7.1)\n",
            "Requirement already satisfied: rsa<=3.5.0,>=3.1.2 in /usr/local/lib/python3.6/dist-packages (from awscli>=1.11.91->allennlp===0.8.5-unreleased->-r requirements.txt (line 1)) (3.4.2)\n",
            "Requirement already satisfied: colorama<=0.3.9,>=0.2.5 in /usr/local/lib/python3.6/dist-packages (from awscli>=1.11.91->allennlp===0.8.5-unreleased->-r requirements.txt (line 1)) (0.3.9)\n",
            "Requirement already satisfied: botocore==1.12.169 in /usr/local/lib/python3.6/dist-packages (from awscli>=1.11.91->allennlp===0.8.5-unreleased->-r requirements.txt (line 1)) (1.12.169)\n",
            "Requirement already satisfied: docutils>=0.10 in /usr/local/lib/python3.6/dist-packages (from awscli>=1.11.91->allennlp===0.8.5-unreleased->-r requirements.txt (line 1)) (0.14)\n",
            "Requirement already satisfied: PyYAML<=5.1,>=3.10; python_version != \"2.6\" in /usr/local/lib/python3.6/dist-packages (from awscli>=1.11.91->allennlp===0.8.5-unreleased->-r requirements.txt (line 1)) (3.13)\n",
            "Requirement already satisfied: s3transfer<0.3.0,>=0.2.0 in /usr/local/lib/python3.6/dist-packages (from awscli>=1.11.91->allennlp===0.8.5-unreleased->-r requirements.txt (line 1)) (0.2.1)\n",
            "Requirement already satisfied: jmespath<1.0.0,>=0.7.1 in /usr/local/lib/python3.6/dist-packages (from boto3->allennlp===0.8.5-unreleased->-r requirements.txt (line 1)) (0.9.4)\n",
            "Requirement already satisfied: click>=5.1 in /usr/local/lib/python3.6/dist-packages (from flask>=1.0.2->allennlp===0.8.5-unreleased->-r requirements.txt (line 1)) (7.0)\n",
            "Requirement already satisfied: Jinja2>=2.10 in /usr/local/lib/python3.6/dist-packages (from flask>=1.0.2->allennlp===0.8.5-unreleased->-r requirements.txt (line 1)) (2.10.1)\n",
            "Requirement already satisfied: itsdangerous>=0.24 in /usr/local/lib/python3.6/dist-packages (from flask>=1.0.2->allennlp===0.8.5-unreleased->-r requirements.txt (line 1)) (1.1.0)\n",
            "Requirement already satisfied: Werkzeug>=0.14 in /usr/local/lib/python3.6/dist-packages (from flask>=1.0.2->allennlp===0.8.5-unreleased->-r requirements.txt (line 1)) (0.15.4)\n",
            "Requirement already satisfied: greenlet>=0.4.14; platform_python_implementation == \"CPython\" in /usr/local/lib/python3.6/dist-packages (from gevent>=1.3.6->allennlp===0.8.5-unreleased->-r requirements.txt (line 1)) (0.4.15)\n",
            "Requirement already satisfied: certifi>=2017.4.17 in /usr/local/lib/python3.6/dist-packages (from requests>=2.18->allennlp===0.8.5-unreleased->-r requirements.txt (line 1)) (2019.3.9)\n",
            "Requirement already satisfied: urllib3<1.25,>=1.21.1 in /usr/local/lib/python3.6/dist-packages (from requests>=2.18->allennlp===0.8.5-unreleased->-r requirements.txt (line 1)) (1.24.3)\n",
            "Requirement already satisfied: idna<2.9,>=2.5 in /usr/local/lib/python3.6/dist-packages (from requests>=2.18->allennlp===0.8.5-unreleased->-r requirements.txt (line 1)) (2.8)\n",
            "Requirement already satisfied: chardet<3.1.0,>=3.0.2 in /usr/local/lib/python3.6/dist-packages (from requests>=2.18->allennlp===0.8.5-unreleased->-r requirements.txt (line 1)) (3.0.4)\n",
            "Requirement already satisfied: joblib>=0.11 in /usr/local/lib/python3.6/dist-packages (from scikit-learn->allennlp===0.8.5-unreleased->-r requirements.txt (line 1)) (0.13.2)\n",
            "Requirement already satisfied: pyparsing!=2.0.4,!=2.1.2,!=2.1.6,>=2.0.1 in /usr/local/lib/python3.6/dist-packages (from matplotlib>=2.2.3->allennlp===0.8.5-unreleased->-r requirements.txt (line 1)) (2.4.0)\n",
            "Requirement already satisfied: cycler>=0.10 in /usr/local/lib/python3.6/dist-packages (from matplotlib>=2.2.3->allennlp===0.8.5-unreleased->-r requirements.txt (line 1)) (0.10.0)\n",
            "Requirement already satisfied: kiwisolver>=1.0.1 in /usr/local/lib/python3.6/dist-packages (from matplotlib>=2.2.3->allennlp===0.8.5-unreleased->-r requirements.txt (line 1)) (1.1.0)\n",
            "Requirement already satisfied: sphinx>=1.6.5 in /usr/local/lib/python3.6/dist-packages (from numpydoc>=0.8.0->allennlp===0.8.5-unreleased->-r requirements.txt (line 1)) (1.8.5)\n",
            "Requirement already satisfied: wcwidth in /usr/local/lib/python3.6/dist-packages (from ftfy->allennlp===0.8.5-unreleased->-r requirements.txt (line 1)) (0.1.7)\n",
            "Requirement already satisfied: lazy-object-proxy in /usr/local/lib/python3.6/dist-packages (from astroid<2.0->pylint==1.8.1->-r requirements.txt (line 7)) (1.4.1)\n",
            "Requirement already satisfied: wrapt in /usr/local/lib/python3.6/dist-packages (from astroid<2.0->pylint==1.8.1->-r requirements.txt (line 7)) (1.11.1)\n",
            "Requirement already satisfied: pyasn1>=0.1.3 in /usr/local/lib/python3.6/dist-packages (from rsa<=3.5.0,>=3.1.2->awscli>=1.11.91->allennlp===0.8.5-unreleased->-r requirements.txt (line 1)) (0.4.5)\n",
            "Requirement already satisfied: MarkupSafe>=0.23 in /usr/local/lib/python3.6/dist-packages (from Jinja2>=2.10->flask>=1.0.2->allennlp===0.8.5-unreleased->-r requirements.txt (line 1)) (1.1.1)\n",
            "Requirement already satisfied: sphinxcontrib-websupport in /usr/local/lib/python3.6/dist-packages (from sphinx>=1.6.5->numpydoc>=0.8.0->allennlp===0.8.5-unreleased->-r requirements.txt (line 1)) (1.1.2)\n",
            "Requirement already satisfied: alabaster<0.8,>=0.7 in /usr/local/lib/python3.6/dist-packages (from sphinx>=1.6.5->numpydoc>=0.8.0->allennlp===0.8.5-unreleased->-r requirements.txt (line 1)) (0.7.12)\n",
            "Requirement already satisfied: packaging in /usr/local/lib/python3.6/dist-packages (from sphinx>=1.6.5->numpydoc>=0.8.0->allennlp===0.8.5-unreleased->-r requirements.txt (line 1)) (19.0)\n",
            "Requirement already satisfied: Pygments>=2.0 in /usr/local/lib/python3.6/dist-packages (from sphinx>=1.6.5->numpydoc>=0.8.0->allennlp===0.8.5-unreleased->-r requirements.txt (line 1)) (2.1.3)\n",
            "Requirement already satisfied: babel!=2.0,>=1.3 in /usr/local/lib/python3.6/dist-packages (from sphinx>=1.6.5->numpydoc>=0.8.0->allennlp===0.8.5-unreleased->-r requirements.txt (line 1)) (2.7.0)\n",
            "Requirement already satisfied: imagesize in /usr/local/lib/python3.6/dist-packages (from sphinx>=1.6.5->numpydoc>=0.8.0->allennlp===0.8.5-unreleased->-r requirements.txt (line 1)) (1.1.0)\n",
            "Requirement already satisfied: snowballstemmer>=1.1 in /usr/local/lib/python3.6/dist-packages (from sphinx>=1.6.5->numpydoc>=0.8.0->allennlp===0.8.5-unreleased->-r requirements.txt (line 1)) (1.2.1)\n",
            "Building wheels for collected packages: allennlp\n",
            "  Building wheel for allennlp (setup.py) ... \u001b[?25l\u001b[?25hdone\n",
            "  Stored in directory: /tmp/pip-ephem-wheel-cache-k0g8loph/wheels/1f/68/bb/eb201425cf5c8214096ae0fceb531500ec6f9b6929f752eae2\n",
            "Successfully built allennlp\n"
          ],
          "name": "stdout"
        }
      ]
    },
    {
      "cell_type": "code",
      "metadata": {
        "id": "JXC-bTeIptAF",
        "colab_type": "code",
        "outputId": "1b96dda2-f77f-48eb-ead1-97c6f65bd544",
        "colab": {
          "base_uri": "https://localhost:8080/",
          "height": 156
        }
      },
      "source": [
        "!python -m spacy download en"
      ],
      "execution_count": 4,
      "outputs": [
        {
          "output_type": "stream",
          "text": [
            "Requirement already satisfied: en_core_web_sm==2.1.0 from https://github.com/explosion/spacy-models/releases/download/en_core_web_sm-2.1.0/en_core_web_sm-2.1.0.tar.gz#egg=en_core_web_sm==2.1.0 in /usr/local/lib/python3.6/dist-packages (2.1.0)\n",
            "\u001b[38;5;2m✔ Download and installation successful\u001b[0m\n",
            "You can now load the model via spacy.load('en_core_web_sm')\n",
            "\u001b[38;5;2m✔ Linking successful\u001b[0m\n",
            "/usr/local/lib/python3.6/dist-packages/en_core_web_sm -->\n",
            "/usr/local/lib/python3.6/dist-packages/spacy/data/en\n",
            "You can now load the model via spacy.load('en')\n"
          ],
          "name": "stdout"
        }
      ]
    },
    {
      "cell_type": "code",
      "metadata": {
        "id": "mTii7MynrbLn",
        "colab_type": "code",
        "outputId": "d9483ce5-21cd-45b2-c070-40f27c170b3f",
        "colab": {
          "base_uri": "https://localhost:8080/",
          "height": 564
        }
      },
      "source": [
        "!SEED=42 python -m pytest -v --color=yes vampire"
      ],
      "execution_count": 5,
      "outputs": [
        {
          "output_type": "stream",
          "text": [
            "\u001b[1m============================= test session starts ==============================\u001b[0m\n",
            "platform linux -- Python 3.6.7, pytest-3.6.4, py-1.8.0, pluggy-0.7.1 -- /usr/bin/python3\n",
            "cachedir: .pytest_cache\n",
            "rootdir: /content/vampire, inifile:\n",
            "plugins: flaky-3.5.3\n",
            "collected 18 items                                                             \u001b[0m\n",
            "\n",
            "vampire/tests/data/dataset_readers/semisupervised_text_classification_json_test.py::TestSemiSupervisedTextClassificationJsonReader::test_ignores_label_properly \u001b[32mPASSED\u001b[0m\u001b[36m [  5%]\u001b[0m\n",
            "vampire/tests/data/dataset_readers/semisupervised_text_classification_json_test.py::TestSemiSupervisedTextClassificationJsonReader::test_read_from_file \u001b[32mPASSED\u001b[0m\u001b[36m [ 11%]\u001b[0m\n",
            "vampire/tests/data/dataset_readers/semisupervised_text_classification_json_test.py::TestSemiSupervisedTextClassificationJsonReader::test_read_from_file_and_truncates_properly \u001b[32mPASSED\u001b[0m\u001b[36m [ 16%]\u001b[0m\n",
            "vampire/tests/data/dataset_readers/semisupervised_text_classification_json_test.py::TestSemiSupervisedTextClassificationJsonReader::test_samples_according_to_seed_properly \u001b[32mPASSED\u001b[0m\u001b[36m [ 22%]\u001b[0m\n",
            "vampire/tests/data/dataset_readers/semisupervised_text_classification_json_test.py::TestSemiSupervisedTextClassificationJsonReader::test_samples_properly \u001b[32mPASSED\u001b[0m\u001b[36m [ 27%]\u001b[0m\n",
            "vampire/tests/data/dataset_readers/semisupervised_text_classification_json_test.py::TestSemiSupervisedTextClassificationJsonReader::test_sampling_fails_when_sample_size_larger_than_file_size \u001b[32mPASSED\u001b[0m\u001b[36m [ 33%]\u001b[0m\n",
            "vampire/tests/models/classifier_test.py::TestClassifiers::test_seq2seq_clf_with_vae_token_embedder_batch_predictions_are_consistent \u001b[32mPASSED\u001b[0m\u001b[36m [ 38%]\u001b[0m\n",
            "vampire/tests/models/classifier_test.py::TestClassifiers::test_seq2seq_clf_with_vae_token_embedder_can_train_save_and_load \u001b[32mPASSED\u001b[0m\u001b[36m [ 44%]\u001b[0m\n",
            "vampire/tests/models/classifier_test.py::TestClassifiers::test_seq2seq_clf_with_vae_token_embedder_forward_pass_runs_correctly \u001b[32mPASSED\u001b[0m\u001b[36m [ 50%]\u001b[0m\n",
            "vampire/tests/models/classifier_test.py::TestClassifiers::test_seq2vec_clf_with_vae_token_embedder_can_train_save_and_load \u001b[32mPASSED\u001b[0m\u001b[36m [ 55%]\u001b[0m\n",
            "vampire/tests/models/classifier_test.py::TestClassifiers::test_seq2vec_clf_with_vae_token_embedder_forward_pass_runs_correctly \u001b[32mPASSED\u001b[0m\u001b[36m [ 61%]\u001b[0m\n",
            "vampire/tests/models/vampire_test.py::TestVampire::test_model_can_train_save_and_load_unsupervised \u001b[32mPASSED\u001b[0m\u001b[36m [ 66%]\u001b[0m\n",
            "vampire/tests/models/vampire_test.py::TestVampire::test_npmi_computed_correctly \u001b[32mPASSED\u001b[0m\u001b[36m [ 72%]\u001b[0m\n",
            "vampire/tests/modules/token_embedders/vampire_token_embedder_test.py::TestVampireTokenEmbedder::test_forward_encoder_output_with_expansion_works \u001b[32mPASSED\u001b[0m\u001b[36m [ 77%]\u001b[0m\n",
            "vampire/tests/modules/token_embedders/vampire_token_embedder_test.py::TestVampireTokenEmbedder::test_forward_works_with_encoder_output_and_projection \u001b[32mPASSED\u001b[0m\u001b[36m [ 83%]\u001b[0m\n",
            "vampire/tests/modules/token_embedders/vampire_token_embedder_test.py::TestVampireTokenEmbedder::test_forward_works_with_encoder_output_expand_and_projection \u001b[32mPASSED\u001b[0m\u001b[36m [ 88%]\u001b[0m\n",
            "vampire/tests/modules/token_embedders/vampire_token_embedder_test.py::TestVampireTokenEmbedder::test_forward_works_with_encoder_weight_and_projection \u001b[32mPASSED\u001b[0m\u001b[36m [ 94%]\u001b[0m\n",
            "vampire/tests/modules/token_embedders/vampire_token_embedder_test.py::TestVampireTokenEmbedder::test_projection_works_with_encoder_weight_representations \u001b[32mPASSED\u001b[0m\u001b[36m [100%]\u001b[0m\n",
            "===Flaky Test Report===\n",
            "\n",
            "\n",
            "===End Flaky Test Report===\n",
            "\n",
            "\u001b[32m\u001b[1m========================== 18 passed in 10.43 seconds ==========================\u001b[0m\n"
          ],
          "name": "stdout"
        }
      ]
    },
    {
      "cell_type": "code",
      "metadata": {
        "id": "_pHcbntzqHuV",
        "colab_type": "code",
        "outputId": "50257bd8-2573-49b3-9a31-fbfb9b9e0ae3",
        "colab": {
          "base_uri": "https://localhost:8080/",
          "height": 170
        }
      },
      "source": [
        "!sh scripts/download_ag.sh"
      ],
      "execution_count": 6,
      "outputs": [
        {
          "output_type": "stream",
          "text": [
            "  % Total    % Received % Xferd  Average Speed   Time    Time     Time  Current\n",
            "                                 Dload  Upload   Total   Spent    Left  Speed\n",
            "100 31.3M  100 31.3M    0     0  24.9M      0  0:00:01  0:00:01 --:--:-- 24.9M\n",
            "  % Total    % Received % Xferd  Average Speed   Time    Time     Time  Current\n",
            "                                 Dload  Upload   Total   Spent    Left  Speed\n",
            "100 1397k  100 1397k    0     0  2422k      0 --:--:-- --:--:-- --:--:-- 2418k\n",
            "  % Total    % Received % Xferd  Average Speed   Time    Time     Time  Current\n",
            "                                 Dload  Upload   Total   Spent    Left  Speed\n",
            "100 1955k  100 1955k    0     0  3343k      0 --:--:-- --:--:-- --:--:-- 3343k\n"
          ],
          "name": "stdout"
        }
      ]
    },
    {
      "cell_type": "code",
      "metadata": {
        "id": "zSVpbMX1rQl7",
        "colab_type": "code",
        "outputId": "0eb3e181-1336-4cba-c417-1b77ee4adf2a",
        "colab": {
          "base_uri": "https://localhost:8080/",
          "height": 272
        }
      },
      "source": [
        "!curl -Lo ag.tar https://s3-us-west-2.amazonaws.com/allennlp/datasets/ag-news/vampire_preprocessed_example.tar\n",
        "!tar -xvf ag.tar -C examples/\n",
        "!rm ag.tar"
      ],
      "execution_count": 7,
      "outputs": [
        {
          "output_type": "stream",
          "text": [
            "rm: cannot remove 'examples/ag/ag.tar': No such file or directory\n",
            "  % Total    % Received % Xferd  Average Speed   Time    Time     Time  Current\n",
            "                                 Dload  Upload   Total   Spent    Left  Speed\n",
            "100 5063k  100 5063k    0     0  7874k      0 --:--:-- --:--:-- --:--:-- 7862k\n",
            "ag/\n",
            "ag/train.npz\n",
            "ag/dev.npz\n",
            "ag/vampire.bgfreq\n",
            "ag/reference/\n",
            "ag/vocabulary/\n",
            "ag/vocabulary/labels.txt\n",
            "ag/vocabulary/non_padded_namespaces.txt\n",
            "ag/vocabulary/vampire.txt\n",
            "ag/reference/ref.vocab.json\n",
            "ag/reference/ref.npz\n"
          ],
          "name": "stdout"
        }
      ]
    },
    {
      "cell_type": "code",
      "metadata": {
        "id": "d_oLBgaYtKsL",
        "colab_type": "code",
        "outputId": "3e6f4661-c014-4790-e29d-699be776f36f",
        "colab": {
          "base_uri": "https://localhost:8080/",
          "height": 4008
        }
      },
      "source": [
        "!DATA_DIR=\"$(pwd)/examples/ag\" VOCAB_SIZE=30000 LAZY=1 python -m scripts.train \\\n",
        "            --config training_config/vampire.jsonnet \\\n",
        "            --serialization-dir model_logs/vampire \\\n",
        "            --environment VAMPIRE \\\n",
        "            --device 0 -o"
      ],
      "execution_count": 0,
      "outputs": [
        {
          "output_type": "stream",
          "text": [
            "overriding model_logs/vampire\n",
            "2019-06-15 21:51:38,959 - INFO - pytorch_pretrained_bert.modeling - Better speed can be achieved with apex installed from https://www.github.com/nvidia/apex .\n",
            "2019-06-15 21:51:40,049 - INFO - allennlp.common.params - random_seed = 34543\n",
            "2019-06-15 21:51:40,049 - INFO - allennlp.common.params - numpy_seed = 34543\n",
            "2019-06-15 21:51:40,049 - INFO - allennlp.common.params - pytorch_seed = 34543\n",
            "2019-06-15 21:51:40,095 - INFO - allennlp.common.checks - Pytorch version: 1.1.0\n",
            "2019-06-15 21:51:40,096 - INFO - allennlp.common.params - evaluate_on_test = False\n",
            "2019-06-15 21:51:40,097 - INFO - allennlp.common.from_params - instantiating class <class 'allennlp.data.dataset_readers.dataset_reader.DatasetReader'> from params {'lazy': True, 'type': 'vampire_reader'} and extras set()\n",
            "2019-06-15 21:51:40,097 - INFO - allennlp.common.params - dataset_reader.type = vampire_reader\n",
            "2019-06-15 21:51:40,097 - INFO - allennlp.common.from_params - instantiating class <class 'vampire.data.dataset_readers.vampire_reader.VampireReader'> from params {'lazy': True} and extras set()\n",
            "2019-06-15 21:51:40,097 - INFO - allennlp.common.params - dataset_reader.lazy = True\n",
            "2019-06-15 21:51:40,097 - INFO - allennlp.training.util - Using a separate dataset reader to load validation and test data.\n",
            "2019-06-15 21:51:40,098 - INFO - allennlp.common.from_params - instantiating class <class 'allennlp.data.dataset_readers.dataset_reader.DatasetReader'> from params {'lazy': True, 'type': 'vampire_reader'} and extras set()\n",
            "2019-06-15 21:51:40,098 - INFO - allennlp.common.params - validation_dataset_reader.type = vampire_reader\n",
            "2019-06-15 21:51:40,098 - INFO - allennlp.common.from_params - instantiating class <class 'vampire.data.dataset_readers.vampire_reader.VampireReader'> from params {'lazy': True} and extras set()\n",
            "2019-06-15 21:51:40,098 - INFO - allennlp.common.params - validation_dataset_reader.lazy = True\n",
            "2019-06-15 21:51:40,098 - INFO - allennlp.common.params - train_data_path = /content/vampire/examples/ag/train.npz\n",
            "2019-06-15 21:51:40,098 - INFO - allennlp.training.util - Reading training data from /content/vampire/examples/ag/train.npz\n",
            "2019-06-15 21:51:40,098 - INFO - allennlp.common.params - validation_data_path = /content/vampire/examples/ag/dev.npz\n",
            "2019-06-15 21:51:40,098 - INFO - allennlp.training.util - Reading validation data from /content/vampire/examples/ag/dev.npz\n",
            "2019-06-15 21:51:40,098 - INFO - allennlp.common.params - test_data_path = None\n",
            "2019-06-15 21:51:40,098 - INFO - allennlp.training.trainer - From dataset instances, train, validation will be considered for vocabulary creation.\n",
            "2019-06-15 21:51:40,098 - INFO - allennlp.common.params - vocabulary.type = extended_vocabulary\n",
            "2019-06-15 21:51:40,099 - INFO - allennlp.common.params - vocabulary.type = None\n",
            "2019-06-15 21:51:40,099 - INFO - allennlp.common.params - vocabulary.extend = False\n",
            "2019-06-15 21:51:40,099 - INFO - allennlp.common.params - vocabulary.directory_path = /content/vampire/examples/ag/vocabulary/\n",
            "2019-06-15 21:51:40,099 - INFO - allennlp.data.vocabulary - Loading Vocab from files instead of dataset.\n",
            "2019-06-15 21:51:40,099 - INFO - allennlp.data.vocabulary - Loading token dictionary from /content/vampire/examples/ag/vocabulary/.\n",
            "2019-06-15 21:51:40,126 - INFO - allennlp.common.from_params - instantiating class <class 'allennlp.models.model.Model'> from params {'bow_embedder': {'ignore_oov': True, 'type': 'bag_of_word_counts', 'vocab_namespace': 'vampire'}, 'kl_weight_annealing': 'linear', 'linear_scaling': '1000', 'reference_counts': '/content/vampire/examples/ag/reference/ref.npz', 'reference_vocabulary': '/content/vampire/examples/ag/reference/ref.vocab.json', 'sigmoid_weight_1': '0.25', 'sigmoid_weight_2': '15', 'track_npmi': True, 'type': 'vampire', 'update_background_freq': False, 'vae': {'apply_batchnorm': False, 'decoder': {'activations': 'linear', 'hidden_dims': [30001], 'input_dim': 81, 'num_layers': 1}, 'encoder': {'activations': ['relu', 'relu'], 'hidden_dims': [81, 81], 'input_dim': 30001, 'num_layers': 2}, 'log_variance_projection': {'activations': 'linear', 'hidden_dims': [81], 'input_dim': 81, 'num_layers': 1}, 'mean_projection': {'activations': 'linear', 'hidden_dims': [81], 'input_dim': '81', 'num_layers': 1}, 'type': 'logistic_normal', 'z_dropout': '0.49'}} and extras {'vocab'}\n",
            "2019-06-15 21:51:40,126 - INFO - allennlp.common.params - model.type = vampire\n",
            "2019-06-15 21:51:40,127 - INFO - allennlp.common.from_params - instantiating class <class 'vampire.models.vampire.VAMPIRE'> from params {'bow_embedder': {'ignore_oov': True, 'type': 'bag_of_word_counts', 'vocab_namespace': 'vampire'}, 'kl_weight_annealing': 'linear', 'linear_scaling': '1000', 'reference_counts': '/content/vampire/examples/ag/reference/ref.npz', 'reference_vocabulary': '/content/vampire/examples/ag/reference/ref.vocab.json', 'sigmoid_weight_1': '0.25', 'sigmoid_weight_2': '15', 'track_npmi': True, 'update_background_freq': False, 'vae': {'apply_batchnorm': False, 'decoder': {'activations': 'linear', 'hidden_dims': [30001], 'input_dim': 81, 'num_layers': 1}, 'encoder': {'activations': ['relu', 'relu'], 'hidden_dims': [81, 81], 'input_dim': 30001, 'num_layers': 2}, 'log_variance_projection': {'activations': 'linear', 'hidden_dims': [81], 'input_dim': 81, 'num_layers': 1}, 'mean_projection': {'activations': 'linear', 'hidden_dims': [81], 'input_dim': '81', 'num_layers': 1}, 'type': 'logistic_normal', 'z_dropout': '0.49'}} and extras {'vocab'}\n",
            "2019-06-15 21:51:40,127 - INFO - allennlp.common.from_params - instantiating class <class 'allennlp.modules.token_embedders.token_embedder.TokenEmbedder'> from params {'ignore_oov': True, 'type': 'bag_of_word_counts', 'vocab_namespace': 'vampire'} and extras {'vocab'}\n",
            "2019-06-15 21:51:40,127 - INFO - allennlp.common.params - model.bow_embedder.type = bag_of_word_counts\n",
            "2019-06-15 21:51:40,127 - INFO - allennlp.common.params - model.bow_embedder.vocab_namespace = vampire\n",
            "2019-06-15 21:51:40,127 - INFO - allennlp.common.params - model.bow_embedder.projection_dim = None\n",
            "2019-06-15 21:51:40,127 - INFO - allennlp.common.params - model.bow_embedder.ignore_oov = True\n",
            "2019-06-15 21:51:40,128 - INFO - allennlp.common.from_params - instantiating class <class 'vampire.modules.vae.vae.VAE'> from params {'apply_batchnorm': False, 'decoder': {'activations': 'linear', 'hidden_dims': [30001], 'input_dim': 81, 'num_layers': 1}, 'encoder': {'activations': ['relu', 'relu'], 'hidden_dims': [81, 81], 'input_dim': 30001, 'num_layers': 2}, 'log_variance_projection': {'activations': 'linear', 'hidden_dims': [81], 'input_dim': 81, 'num_layers': 1}, 'mean_projection': {'activations': 'linear', 'hidden_dims': [81], 'input_dim': '81', 'num_layers': 1}, 'type': 'logistic_normal', 'z_dropout': '0.49'} and extras {'vocab'}\n",
            "2019-06-15 21:51:40,128 - INFO - allennlp.common.params - model.vae.type = logistic_normal\n",
            "2019-06-15 21:51:40,128 - INFO - allennlp.common.from_params - instantiating class <class 'vampire.modules.vae.logistic_normal.LogisticNormal'> from params {'apply_batchnorm': False, 'decoder': {'activations': 'linear', 'hidden_dims': [30001], 'input_dim': 81, 'num_layers': 1}, 'encoder': {'activations': ['relu', 'relu'], 'hidden_dims': [81, 81], 'input_dim': 30001, 'num_layers': 2}, 'log_variance_projection': {'activations': 'linear', 'hidden_dims': [81], 'input_dim': 81, 'num_layers': 1}, 'mean_projection': {'activations': 'linear', 'hidden_dims': [81], 'input_dim': '81', 'num_layers': 1}, 'z_dropout': '0.49'} and extras {'vocab'}\n",
            "2019-06-15 21:51:40,128 - INFO - allennlp.common.from_params - instantiating class <class 'allennlp.modules.feedforward.FeedForward'> from params {'activations': ['relu', 'relu'], 'hidden_dims': [81, 81], 'input_dim': 30001, 'num_layers': 2} and extras {'vocab'}\n",
            "2019-06-15 21:51:40,128 - INFO - allennlp.common.params - model.vae.encoder.input_dim = 30001\n",
            "2019-06-15 21:51:40,128 - INFO - allennlp.common.params - model.vae.encoder.num_layers = 2\n",
            "2019-06-15 21:51:40,128 - INFO - allennlp.common.params - model.vae.encoder.hidden_dims = [81, 81]\n",
            "2019-06-15 21:51:40,129 - INFO - allennlp.common.params - model.vae.encoder.hidden_dims = [81, 81]\n",
            "2019-06-15 21:51:40,129 - INFO - allennlp.common.params - model.vae.encoder.activations = ['relu', 'relu']\n",
            "2019-06-15 21:51:40,129 - INFO - allennlp.common.from_params - instantiating class <class 'allennlp.nn.activations.Activation'> from params ['relu', 'relu'] and extras {'vocab'}\n",
            "2019-06-15 21:51:40,129 - INFO - allennlp.common.params - model.vae.encoder.activations = ['relu', 'relu']\n",
            "2019-06-15 21:51:40,129 - INFO - allennlp.common.from_params - instantiating class <class 'allennlp.nn.activations.Activation'> from params relu and extras {'vocab'}\n",
            "2019-06-15 21:51:40,129 - INFO - allennlp.common.params - type = relu\n",
            "2019-06-15 21:51:40,130 - INFO - allennlp.common.from_params - instantiating class <class 'allennlp.nn.activations.Activation'> from params relu and extras {'vocab'}\n",
            "2019-06-15 21:51:40,130 - INFO - allennlp.common.params - type = relu\n",
            "2019-06-15 21:51:40,130 - INFO - allennlp.common.params - model.vae.encoder.dropout = 0.0\n",
            "2019-06-15 21:51:40,153 - INFO - allennlp.common.from_params - instantiating class <class 'allennlp.modules.feedforward.FeedForward'> from params {'activations': 'linear', 'hidden_dims': [81], 'input_dim': '81', 'num_layers': 1} and extras {'vocab'}\n",
            "2019-06-15 21:51:40,153 - INFO - allennlp.common.params - model.vae.mean_projection.input_dim = 81\n",
            "2019-06-15 21:51:40,153 - INFO - allennlp.common.params - model.vae.mean_projection.num_layers = 1\n",
            "2019-06-15 21:51:40,154 - INFO - allennlp.common.params - model.vae.mean_projection.hidden_dims = [81]\n",
            "2019-06-15 21:51:40,154 - INFO - allennlp.common.params - model.vae.mean_projection.hidden_dims = [81]\n",
            "2019-06-15 21:51:40,154 - INFO - allennlp.common.params - model.vae.mean_projection.activations = linear\n",
            "2019-06-15 21:51:40,154 - INFO - allennlp.common.params - model.vae.mean_projection.dropout = 0.0\n",
            "2019-06-15 21:51:40,155 - INFO - allennlp.common.from_params - instantiating class <class 'allennlp.modules.feedforward.FeedForward'> from params {'activations': 'linear', 'hidden_dims': [81], 'input_dim': 81, 'num_layers': 1} and extras {'vocab'}\n",
            "2019-06-15 21:51:40,155 - INFO - allennlp.common.params - model.vae.log_variance_projection.input_dim = 81\n",
            "2019-06-15 21:51:40,155 - INFO - allennlp.common.params - model.vae.log_variance_projection.num_layers = 1\n",
            "2019-06-15 21:51:40,155 - INFO - allennlp.common.params - model.vae.log_variance_projection.hidden_dims = [81]\n",
            "2019-06-15 21:51:40,155 - INFO - allennlp.common.params - model.vae.log_variance_projection.hidden_dims = [81]\n",
            "2019-06-15 21:51:40,156 - INFO - allennlp.common.params - model.vae.log_variance_projection.activations = linear\n",
            "2019-06-15 21:51:40,156 - INFO - allennlp.common.params - model.vae.log_variance_projection.dropout = 0.0\n",
            "2019-06-15 21:51:40,156 - INFO - allennlp.common.from_params - instantiating class <class 'allennlp.modules.feedforward.FeedForward'> from params {'activations': 'linear', 'hidden_dims': [30001], 'input_dim': 81, 'num_layers': 1} and extras {'vocab'}\n",
            "2019-06-15 21:51:40,156 - INFO - allennlp.common.params - model.vae.decoder.input_dim = 81\n",
            "2019-06-15 21:51:40,157 - INFO - allennlp.common.params - model.vae.decoder.num_layers = 1\n",
            "2019-06-15 21:51:40,157 - INFO - allennlp.common.params - model.vae.decoder.hidden_dims = [30001]\n",
            "2019-06-15 21:51:40,157 - INFO - allennlp.common.params - model.vae.decoder.hidden_dims = [30001]\n",
            "2019-06-15 21:51:40,157 - INFO - allennlp.common.params - model.vae.decoder.activations = linear\n",
            "2019-06-15 21:51:40,157 - INFO - allennlp.common.params - model.vae.decoder.dropout = 0.0\n",
            "2019-06-15 21:51:40,179 - INFO - allennlp.common.params - model.vae.apply_batchnorm = False\n",
            "2019-06-15 21:51:40,179 - INFO - allennlp.common.params - model.vae.z_dropout = 0.49\n",
            "2019-06-15 21:51:40,200 - INFO - allennlp.common.params - model.kl_weight_annealing = linear\n",
            "2019-06-15 21:51:40,201 - INFO - allennlp.common.params - model.linear_scaling = 1000\n",
            "2019-06-15 21:51:40,201 - INFO - allennlp.common.params - model.sigmoid_weight_1 = 0.25\n",
            "2019-06-15 21:51:40,201 - INFO - allennlp.common.params - model.sigmoid_weight_2 = 15\n",
            "2019-06-15 21:51:40,201 - INFO - allennlp.common.params - model.reference_counts = /content/vampire/examples/ag/reference/ref.npz\n",
            "2019-06-15 21:51:40,201 - INFO - allennlp.common.params - model.reference_vocabulary = /content/vampire/examples/ag/reference/ref.vocab.json\n",
            "2019-06-15 21:51:40,201 - INFO - allennlp.common.params - model.background_data_path = None\n",
            "2019-06-15 21:51:40,201 - INFO - allennlp.common.params - model.update_background_freq = False\n",
            "2019-06-15 21:51:40,201 - INFO - allennlp.common.params - model.track_topics = True\n",
            "2019-06-15 21:51:40,201 - INFO - allennlp.common.params - model.track_npmi = True\n",
            "2019-06-15 21:51:40,201 - INFO - vampire.models.vampire - Loading reference vocabulary.\n",
            "2019-06-15 21:51:40,206 - INFO - vampire.models.vampire - Loading reference count matrix.\n",
            "2019-06-15 21:51:40,219 - INFO - vampire.models.vampire - Computing word interaction matrix.\n",
            "2019-06-15 21:51:40,264 - INFO - vampire.models.vampire - Generating npmi matrices.\n",
            "2019-06-15 21:51:40,299 - INFO - vampire.models.vampire - generating doc sums...\n",
            "2019-06-15 21:51:40,460 - INFO - vampire.models.vampire - generating numerator...\n",
            "2019-06-15 21:51:40,509 - INFO - vampire.models.vampire - generating denominator...\n",
            "2019-06-15 21:51:40,512 - INFO - allennlp.nn.initializers - Initializing parameters\n",
            "2019-06-15 21:51:40,512 - INFO - allennlp.nn.initializers - Done initializing parameters; the following parameters are using their default initialization from their code\n",
            "2019-06-15 21:51:40,512 - INFO - allennlp.nn.initializers -    _background_freq\n",
            "2019-06-15 21:51:40,512 - INFO - allennlp.nn.initializers -    bow_bn.bias\n",
            "2019-06-15 21:51:40,513 - INFO - allennlp.nn.initializers -    bow_bn.weight\n",
            "2019-06-15 21:51:40,513 - INFO - allennlp.nn.initializers -    vae._decoder.weight\n",
            "2019-06-15 21:51:40,513 - INFO - allennlp.nn.initializers -    vae.encoder._linear_layers.0.bias\n",
            "2019-06-15 21:51:40,513 - INFO - allennlp.nn.initializers -    vae.encoder._linear_layers.0.weight\n",
            "2019-06-15 21:51:40,513 - INFO - allennlp.nn.initializers -    vae.encoder._linear_layers.1.bias\n",
            "2019-06-15 21:51:40,513 - INFO - allennlp.nn.initializers -    vae.encoder._linear_layers.1.weight\n",
            "2019-06-15 21:51:40,513 - INFO - allennlp.nn.initializers -    vae.log_variance_projection._linear_layers.0.bias\n",
            "2019-06-15 21:51:40,513 - INFO - allennlp.nn.initializers -    vae.log_variance_projection._linear_layers.0.weight\n",
            "2019-06-15 21:51:40,513 - INFO - allennlp.nn.initializers -    vae.mean_projection._linear_layers.0.bias\n",
            "2019-06-15 21:51:40,513 - INFO - allennlp.nn.initializers -    vae.mean_projection._linear_layers.0.weight\n",
            "2019-06-15 21:51:40,593 - INFO - allennlp.common.from_params - instantiating class <class 'allennlp.data.iterators.data_iterator.DataIterator'> from params {'batch_size': 64, 'track_epoch': True, 'type': 'basic'} and extras set()\n",
            "2019-06-15 21:51:40,593 - INFO - allennlp.common.params - iterator.type = basic\n",
            "2019-06-15 21:51:40,594 - INFO - allennlp.common.from_params - instantiating class <class 'allennlp.data.iterators.basic_iterator.BasicIterator'> from params {'batch_size': 64, 'track_epoch': True} and extras set()\n",
            "2019-06-15 21:51:40,594 - INFO - allennlp.common.params - iterator.batch_size = 64\n",
            "2019-06-15 21:51:40,594 - INFO - allennlp.common.params - iterator.instances_per_epoch = None\n",
            "2019-06-15 21:51:40,594 - INFO - allennlp.common.params - iterator.max_instances_in_memory = None\n",
            "2019-06-15 21:51:40,594 - INFO - allennlp.common.params - iterator.cache_instances = False\n",
            "2019-06-15 21:51:40,594 - INFO - allennlp.common.params - iterator.track_epoch = True\n",
            "2019-06-15 21:51:40,594 - INFO - allennlp.common.params - iterator.maximum_samples_per_batch = None\n",
            "2019-06-15 21:51:40,594 - INFO - allennlp.common.params - validation_iterator = None\n",
            "2019-06-15 21:51:40,594 - INFO - allennlp.common.params - trainer.no_grad = ()\n",
            "2019-06-15 21:51:40,595 - INFO - allennlp.training.trainer - Following parameters are Frozen  (without gradient):\n",
            "2019-06-15 21:51:40,595 - INFO - allennlp.training.trainer - _background_freq\n",
            "2019-06-15 21:51:40,595 - INFO - allennlp.training.trainer - bow_bn.weight\n",
            "2019-06-15 21:51:40,595 - INFO - allennlp.training.trainer - Following parameters are Tunable (with gradient):\n",
            "2019-06-15 21:51:40,595 - INFO - allennlp.training.trainer - vae.encoder._linear_layers.0.weight\n",
            "2019-06-15 21:51:40,595 - INFO - allennlp.training.trainer - vae.encoder._linear_layers.0.bias\n",
            "2019-06-15 21:51:40,595 - INFO - allennlp.training.trainer - vae.encoder._linear_layers.1.weight\n",
            "2019-06-15 21:51:40,595 - INFO - allennlp.training.trainer - vae.encoder._linear_layers.1.bias\n",
            "2019-06-15 21:51:40,595 - INFO - allennlp.training.trainer - vae.mean_projection._linear_layers.0.weight\n",
            "2019-06-15 21:51:40,595 - INFO - allennlp.training.trainer - vae.mean_projection._linear_layers.0.bias\n",
            "2019-06-15 21:51:40,595 - INFO - allennlp.training.trainer - vae.log_variance_projection._linear_layers.0.weight\n",
            "2019-06-15 21:51:40,595 - INFO - allennlp.training.trainer - vae.log_variance_projection._linear_layers.0.bias\n",
            "2019-06-15 21:51:40,595 - INFO - allennlp.training.trainer - vae._decoder.weight\n",
            "2019-06-15 21:51:40,595 - INFO - allennlp.training.trainer - bow_bn.bias\n",
            "2019-06-15 21:51:40,596 - INFO - allennlp.common.params - trainer.patience = 5\n",
            "2019-06-15 21:51:40,596 - INFO - allennlp.common.params - trainer.validation_metric = +npmi\n",
            "2019-06-15 21:51:40,596 - INFO - allennlp.common.params - trainer.shuffle = True\n",
            "2019-06-15 21:51:40,596 - INFO - allennlp.common.params - trainer.num_epochs = 50\n",
            "2019-06-15 21:51:40,596 - INFO - allennlp.common.params - trainer.cuda_device = 0\n",
            "2019-06-15 21:51:40,596 - INFO - allennlp.common.params - trainer.grad_norm = None\n",
            "2019-06-15 21:51:40,596 - INFO - allennlp.common.params - trainer.grad_clipping = None\n",
            "2019-06-15 21:51:40,596 - INFO - allennlp.common.params - trainer.learning_rate_scheduler = None\n",
            "2019-06-15 21:51:40,596 - INFO - allennlp.common.params - trainer.momentum_scheduler = None\n",
            "2019-06-15 21:51:44,946 - INFO - allennlp.common.params - trainer.optimizer.type = adam\n",
            "2019-06-15 21:51:44,947 - INFO - allennlp.common.params - trainer.optimizer.parameter_groups = None\n",
            "2019-06-15 21:51:44,947 - INFO - allennlp.training.optimizers - Number of trainable parameters: 4910170\n",
            "2019-06-15 21:51:44,948 - INFO - allennlp.common.params - trainer.optimizer.infer_type_and_cast = True\n",
            "2019-06-15 21:51:44,948 - INFO - allennlp.common.params - Converting Params object to dict; logging of default values will not occur when dictionary parameters are used subsequently.\n",
            "2019-06-15 21:51:44,948 - INFO - allennlp.common.params - CURRENTLY DEFINED PARAMETERS: \n",
            "2019-06-15 21:51:44,948 - INFO - allennlp.common.params - trainer.optimizer.lr = 0.00021\n",
            "2019-06-15 21:51:44,948 - INFO - allennlp.common.params - trainer.num_serialized_models_to_keep = 1\n",
            "2019-06-15 21:51:44,948 - INFO - allennlp.common.params - trainer.keep_serialized_model_every_num_seconds = None\n",
            "2019-06-15 21:51:44,948 - INFO - allennlp.common.params - trainer.model_save_interval = None\n",
            "2019-06-15 21:51:44,948 - INFO - allennlp.common.params - trainer.summary_interval = 100\n",
            "2019-06-15 21:51:44,948 - INFO - allennlp.common.params - trainer.histogram_interval = None\n",
            "2019-06-15 21:51:44,949 - INFO - allennlp.common.params - trainer.should_log_parameter_statistics = True\n",
            "2019-06-15 21:51:44,949 - INFO - allennlp.common.params - trainer.should_log_learning_rate = False\n",
            "2019-06-15 21:51:44,949 - INFO - allennlp.common.params - trainer.log_batch_size_period = None\n",
            "2019-06-15 21:51:44,951 - INFO - allennlp.training.trainer - Beginning training.\n",
            "2019-06-15 21:51:44,951 - INFO - allennlp.training.trainer - Epoch 0/49\n",
            "2019-06-15 21:51:44,951 - INFO - allennlp.training.trainer - Peak CPU memory usage MB: 3284.308\n",
            "2019-06-15 21:51:45,026 - INFO - allennlp.training.trainer - GPU 0 memory usage MB: 791\n",
            "2019-06-15 21:51:45,027 - INFO - allennlp.training.trainer - Training\n",
            "nkld: 47.7121, nll: 175.4715, npmi: 0.0000, loss: 175.5193 ||: : 1797it [00:51, 35.02it/s]\n",
            "2019-06-15 21:52:36,345 - INFO - allennlp.training.trainer - Validating\n",
            "nkld: 89.8544, nll: 174.1704, npmi: 0.0000, loss: 264.0249 ||: : 79it [00:01, 46.72it/s]\n",
            "2019-06-15 21:52:38,122 - INFO - allennlp.training.tensorboard_writer -                     Training |  Validation\n",
            "2019-06-15 21:52:38,123 - INFO - allennlp.training.tensorboard_writer - npmi            |     0.000  |     0.000\n",
            "2019-06-15 21:52:38,123 - INFO - allennlp.training.tensorboard_writer - loss            |   175.519  |   264.025\n",
            "2019-06-15 21:52:38,124 - INFO - allennlp.training.tensorboard_writer - gpu_0_memory_MB |   791.000  |       N/A\n",
            "2019-06-15 21:52:38,125 - INFO - allennlp.training.tensorboard_writer - nll             |   175.471  |   174.170\n",
            "2019-06-15 21:52:38,125 - INFO - allennlp.training.tensorboard_writer - cpu_memory_MB   |  3284.308  |       N/A\n",
            "2019-06-15 21:52:38,126 - INFO - allennlp.training.tensorboard_writer - nkld            |    47.712  |    89.854\n",
            "2019-06-15 21:52:38,201 - INFO - allennlp.training.checkpointer - Best validation performance so far. Copying weights to 'model_logs/vampire/best.th'.\n",
            "2019-06-15 21:52:38,224 - INFO - allennlp.training.trainer - Epoch duration: 0:00:53.272960\n",
            "2019-06-15 21:52:38,225 - INFO - allennlp.training.trainer - Estimated training time remaining: 0:43:30\n",
            "2019-06-15 21:52:38,225 - INFO - allennlp.training.trainer - Epoch 1/49\n",
            "2019-06-15 21:52:38,225 - INFO - allennlp.training.trainer - Peak CPU memory usage MB: 3440.644\n",
            "2019-06-15 21:52:38,304 - INFO - allennlp.training.trainer - GPU 0 memory usage MB: 945\n",
            "2019-06-15 21:52:38,304 - INFO - allennlp.training.trainer - Training\n",
            "  0%|          | 0/1 [00:00<?, ?it/s]1.0\n",
            "nkld: 102.5835, nll: 164.1168, npmi: 0.0157, loss: 164.2192 ||: : 1797it [00:55, 32.32it/s]\n",
            "2019-06-15 21:53:33,913 - INFO - allennlp.training.trainer - Validating\n",
            "nkld: 113.4156, nll: 168.6455, npmi: 0.0157, loss: 282.0611 ||: : 79it [00:01, 45.94it/s]\n",
            "2019-06-15 21:53:35,683 - INFO - allennlp.training.tensorboard_writer -                     Training |  Validation\n",
            "2019-06-15 21:53:35,684 - INFO - allennlp.training.tensorboard_writer - npmi            |     0.016  |     0.016\n",
            "2019-06-15 21:53:35,684 - INFO - allennlp.training.tensorboard_writer - loss            |   164.219  |   282.061\n",
            "2019-06-15 21:53:35,685 - INFO - allennlp.training.tensorboard_writer - gpu_0_memory_MB |   945.000  |       N/A\n",
            "2019-06-15 21:53:35,685 - INFO - allennlp.training.tensorboard_writer - nll             |   164.117  |   168.645\n",
            "2019-06-15 21:53:35,685 - INFO - allennlp.training.tensorboard_writer - cpu_memory_MB   |  3440.644  |       N/A\n",
            "2019-06-15 21:53:35,686 - INFO - allennlp.training.tensorboard_writer - nkld            |   102.583  |   113.416\n",
            "2019-06-15 21:53:35,761 - INFO - allennlp.training.checkpointer - Best validation performance so far. Copying weights to 'model_logs/vampire/best.th'.\n",
            "2019-06-15 21:53:35,797 - INFO - allennlp.training.trainer - Epoch duration: 0:00:57.572026\n",
            "2019-06-15 21:53:35,797 - INFO - allennlp.training.trainer - Estimated training time remaining: 0:44:20\n",
            "2019-06-15 21:53:35,798 - INFO - allennlp.training.trainer - Epoch 2/49\n",
            "2019-06-15 21:53:35,798 - INFO - allennlp.training.trainer - Peak CPU memory usage MB: 3476.392\n",
            "2019-06-15 21:53:35,878 - INFO - allennlp.training.trainer - GPU 0 memory usage MB: 945\n",
            "2019-06-15 21:53:35,879 - INFO - allennlp.training.trainer - Training\n",
            "  0%|          | 0/1 [00:00<?, ?it/s]1.0\n",
            "nkld: 102.8480, nll: 157.4066, npmi: 0.0330, loss: 157.6124 ||: : 1797it [00:54, 31.17it/s]\n",
            "2019-06-15 21:54:30,734 - INFO - allennlp.training.trainer - Validating\n",
            "nkld: 104.1232, nll: 161.6403, npmi: 0.0330, loss: 265.7635 ||: : 79it [00:01, 44.63it/s]\n",
            "2019-06-15 21:54:32,505 - INFO - allennlp.training.tensorboard_writer -                     Training |  Validation\n",
            "2019-06-15 21:54:32,506 - INFO - allennlp.training.tensorboard_writer - npmi            |     0.033  |     0.033\n",
            "2019-06-15 21:54:32,506 - INFO - allennlp.training.tensorboard_writer - loss            |   157.612  |   265.763\n",
            "2019-06-15 21:54:32,507 - INFO - allennlp.training.tensorboard_writer - gpu_0_memory_MB |   945.000  |       N/A\n",
            "2019-06-15 21:54:32,507 - INFO - allennlp.training.tensorboard_writer - nll             |   157.407  |   161.640\n",
            "2019-06-15 21:54:32,508 - INFO - allennlp.training.tensorboard_writer - cpu_memory_MB   |  3476.392  |       N/A\n",
            "2019-06-15 21:54:32,508 - INFO - allennlp.training.tensorboard_writer - nkld            |   102.848  |   104.123\n",
            "2019-06-15 21:54:32,584 - INFO - allennlp.training.checkpointer - Best validation performance so far. Copying weights to 'model_logs/vampire/best.th'.\n",
            "2019-06-15 21:54:32,621 - INFO - allennlp.training.trainer - Epoch duration: 0:00:56.823508\n",
            "2019-06-15 21:54:32,621 - INFO - allennlp.training.trainer - Estimated training time remaining: 0:43:46\n",
            "2019-06-15 21:54:32,622 - INFO - allennlp.training.trainer - Epoch 3/49\n",
            "2019-06-15 21:54:32,622 - INFO - allennlp.training.trainer - Peak CPU memory usage MB: 3476.396\n",
            "2019-06-15 21:54:32,701 - INFO - allennlp.training.trainer - GPU 0 memory usage MB: 945\n",
            "2019-06-15 21:54:32,702 - INFO - allennlp.training.trainer - Training\n",
            "  0%|          | 0/1 [00:00<?, ?it/s]1.0\n",
            "nkld: 96.2572, nll: 152.5237, npmi: 0.0572, loss: 152.8125 ||: : 1797it [00:55, 30.32it/s]\n",
            "2019-06-15 21:55:28,003 - INFO - allennlp.training.trainer - Validating\n",
            "nkld: 97.2059, nll: 155.4530, npmi: 0.0572, loss: 252.6589 ||: : 79it [00:01, 45.53it/s]\n",
            "2019-06-15 21:55:29,809 - INFO - allennlp.training.tensorboard_writer -                     Training |  Validation\n",
            "2019-06-15 21:55:29,809 - INFO - allennlp.training.tensorboard_writer - npmi            |     0.057  |     0.057\n",
            "2019-06-15 21:55:29,810 - INFO - allennlp.training.tensorboard_writer - loss            |   152.812  |   252.659\n",
            "2019-06-15 21:55:29,810 - INFO - allennlp.training.tensorboard_writer - gpu_0_memory_MB |   945.000  |       N/A\n",
            "2019-06-15 21:55:29,810 - INFO - allennlp.training.tensorboard_writer - nll             |   152.524  |   155.453\n",
            "2019-06-15 21:55:29,811 - INFO - allennlp.training.tensorboard_writer - cpu_memory_MB   |  3476.396  |       N/A\n",
            "2019-06-15 21:55:29,811 - INFO - allennlp.training.tensorboard_writer - nkld            |    96.257  |    97.206\n",
            "2019-06-15 21:55:29,886 - INFO - allennlp.training.checkpointer - Best validation performance so far. Copying weights to 'model_logs/vampire/best.th'.\n",
            "2019-06-15 21:55:29,924 - INFO - allennlp.training.trainer - Epoch duration: 0:00:57.302884\n",
            "2019-06-15 21:55:29,925 - INFO - allennlp.training.trainer - Estimated training time remaining: 0:43:07\n",
            "2019-06-15 21:55:29,925 - INFO - allennlp.training.trainer - Epoch 4/49\n",
            "2019-06-15 21:55:29,925 - INFO - allennlp.training.trainer - Peak CPU memory usage MB: 3491.508\n",
            "2019-06-15 21:55:30,007 - INFO - allennlp.training.trainer - GPU 0 memory usage MB: 945\n",
            "2019-06-15 21:55:30,008 - INFO - allennlp.training.trainer - Training\n",
            "  0%|          | 0/1 [00:00<?, ?it/s]1.0\n",
            "nkld: 92.5707, nll: 150.0295, npmi: 0.0747, loss: 150.3997 ||: : 336it [00:14, 35.62it/s]"
          ],
          "name": "stdout"
        }
      ]
    },
    {
      "cell_type": "code",
      "metadata": {
        "id": "D0T6rYRLtTU_",
        "colab_type": "code",
        "colab": {}
      },
      "source": [
        "!DATA_DIR=\"$(pwd)/examples/ag\" VAMPIRE_DIR=\"$(pwd)/model_logs/vampire\" VAMPIRE_DIM=81 THROTTLE=200 EVALUATE_ON_TEST=0 python -m scripts.train \\\n",
        "            --config training_config/classifier.jsonnet \\\n",
        "            --serialization-dir model_logs/clf \\\n",
        "            --environment CLASSIFIER \\\n",
        "            --device 0"
      ],
      "execution_count": 0,
      "outputs": []
    },
    {
      "cell_type": "code",
      "metadata": {
        "id": "5H6K6A_S8fZs",
        "colab_type": "code",
        "colab": {}
      },
      "source": [
        ""
      ],
      "execution_count": 0,
      "outputs": []
    }
  ]
}