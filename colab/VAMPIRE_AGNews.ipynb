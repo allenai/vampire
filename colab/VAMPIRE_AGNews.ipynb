{
  "nbformat": 4,
  "nbformat_minor": 0,
  "metadata": {
    "colab": {
      "name": "VAMPIRE_AGNews.ipynb",
      "version": "0.3.2",
      "provenance": [],
      "include_colab_link": true
    },
    "kernelspec": {
      "name": "python3",
      "display_name": "Python 3"
    },
    "accelerator": "GPU"
  },
  "cells": [
    {
      "cell_type": "markdown",
      "metadata": {
        "id": "view-in-github",
        "colab_type": "text"
      },
      "source": [
        "<a href=\"https://colab.research.google.com/github/allenai/vampire/blob/colab/colab/VAMPIRE_AGNews.ipynb\" target=\"_parent\"><img src=\"https://colab.research.google.com/assets/colab-badge.svg\" alt=\"Open In Colab\"/></a>"
      ]
    },
    {
      "cell_type": "code",
      "metadata": {
        "id": "wEFivVCCpEUn",
        "colab_type": "code",
        "colab": {}
      },
      "source": [
        "!git clone https://github.com/allenai/vampire\n"
      ],
      "execution_count": 0,
      "outputs": []
    },
    {
      "cell_type": "code",
      "metadata": {
        "id": "rMDq7NeCrHB3",
        "colab_type": "code",
        "colab": {}
      },
      "source": [
        "%cd vampire"
      ],
      "execution_count": 0,
      "outputs": []
    },
    {
      "cell_type": "code",
      "metadata": {
        "id": "f52p11vJpJW8",
        "colab_type": "code",
        "colab": {}
      },
      "source": [
        "!pip install -r requirements.txt"
      ],
      "execution_count": 0,
      "outputs": []
    },
    {
      "cell_type": "code",
      "metadata": {
        "id": "JXC-bTeIptAF",
        "colab_type": "code",
        "colab": {}
      },
      "source": [
        "!python -m spacy download en"
      ],
      "execution_count": 0,
      "outputs": []
    },
    {
      "cell_type": "code",
      "metadata": {
        "id": "mTii7MynrbLn",
        "colab_type": "code",
        "colab": {}
      },
      "source": [
        "!SEED=42 python -m pytest -v --color=yes vampire"
      ],
      "execution_count": 0,
      "outputs": []
    },
    {
      "cell_type": "code",
      "metadata": {
        "id": "_pHcbntzqHuV",
        "colab_type": "code",
        "colab": {}
      },
      "source": [
        "!sh scripts/download_ag.sh"
      ],
      "execution_count": 0,
      "outputs": []
    },
    {
      "cell_type": "code",
      "metadata": {
        "id": "zSVpbMX1rQl7",
        "colab_type": "code",
        "colab": {}
      },
      "source": [
        "!curl -Lo ag.tar https://s3-us-west-2.amazonaws.com/allennlp/datasets/ag-news/vampire_preprocessed_example.tar\n",
        "!tar -xvf ag.tar -C examples/\n",
        "!rm ag.tar"
      ],
      "execution_count": 0,
      "outputs": []
    },
    {
      "cell_type": "code",
      "metadata": {
        "id": "d_oLBgaYtKsL",
        "colab_type": "code",
        "colab": {}
      },
      "source": [
        "!DATA_DIR=\"$(pwd)/examples/ag\" VOCAB_SIZE=30000 LAZY=1 python -m scripts.train \\\n",
        "            --config training_config/vampire.jsonnet \\\n",
        "            --serialization-dir model_logs/vampire \\\n",
        "            --environment VAMPIRE \\\n",
        "            --device 0 -o"
      ],
      "execution_count": 0,
      "outputs": []
    },
    {
      "cell_type": "code",
      "metadata": {
        "id": "D0T6rYRLtTU_",
        "colab_type": "code",
        "colab": {}
      },
      "source": [
        "!DATA_DIR=\"$(pwd)/examples/ag\" VAMPIRE_DIR=\"$(pwd)/model_logs/vampire\" VAMPIRE_DIM=81 THROTTLE=200 EVALUATE_ON_TEST=0 python -m scripts.train \\\n",
        "            --config training_config/classifier.jsonnet \\\n",
        "            --serialization-dir model_logs/clf \\\n",
        "            --environment CLASSIFIER \\\n",
        "            --device 0"
      ],
      "execution_count": 0,
      "outputs": []
    },
    {
      "cell_type": "code",
      "metadata": {
        "id": "5H6K6A_S8fZs",
        "colab_type": "code",
        "colab": {}
      },
      "source": [
        ""
      ],
      "execution_count": 0,
      "outputs": []
    }
  ]
}